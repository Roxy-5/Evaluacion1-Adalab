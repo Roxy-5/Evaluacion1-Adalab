{
 "cells": [
  {
   "cell_type": "markdown",
   "id": "29eb990d",
   "metadata": {},
   "source": [
    "# Evaluación Final Módulo 1: Python\n",
    "## Instrucciones\n",
    "\n",
    "- Antes de empezar, hay que crear un nuevo repositorio desde GitHub Classroom usando este enlace.\n",
    "Una vez creado, hay que clonar en nuestro ordenador y en la carpeta creada empezaremos a trabajar\n",
    "en el ejercicio.\n",
    "- Esta evaluación consta de una serie de preguntas que evalúan tu comprensión y habilidades en\n",
    "relación con funciones, clases y regex.\n",
    "- Puedes usar recursos externos, incluyendo internet y materiales de referencia o tus propias notas.\n",
    "- Completa los ejercicios en un jupyter notebook."
   ]
  },
  {
   "cell_type": "code",
   "execution_count": null,
   "id": "c7053be5",
   "metadata": {},
   "outputs": [],
   "source": [
    "from IPython.core.interactiveshell import InteractiveShell\n",
    "InteractiveShell.ast_node_interactivity = \"all\" #para que muestre el código completo"
   ]
  },
  {
   "cell_type": "markdown",
   "id": "05da6b48",
   "metadata": {},
   "source": [
    "## Ejercicios\n",
    "A lo largo de esta evaluación tendrás que crear una clase llamada TiendaOnline que cumpla los\n",
    "siguientes requisitos:\n",
    "La clase TiendaOnline debe tener los siguientes atributos:\n",
    "- Inventario (lista de diccionarios): Un atributo para almacenar los productos en el inventario.\n",
    "Cada producto debe ser representado como un diccionario con las siguientes claves:\n",
    "'nombre', 'precio', y 'cantidad'. Al principio deberá ser una lista vacía. \n",
    "- Ventas_totales (float): Un atributo para llevar un registro de las ventas totales de la tienda.\n",
    "Inicializado con valor 0."
   ]
  },
  {
   "cell_type": "code",
   "execution_count": 8,
   "id": "870c4723",
   "metadata": {},
   "outputs": [],
   "source": [
    "#class OnlineStore:\n",
    "    #def __init__(self):\n",
    "        #self.inventory = [] #crea una lista vacía de productos\n",
    "        #self.total_sales = 0.0 #total vendido de € en float (decimal)\n",
    "        #self.customers = {} #crea un diccionario vacío de clientes"
   ]
  },
  {
   "cell_type": "markdown",
   "id": "3273a914",
   "metadata": {},
   "source": [
    "La clase TiendaOnline debe tener los siguientes métodos:\n",
    "- Agregar_producto(self, nombre, precio, cantidad): Este método agrega un producto al inventario o actualiza su cantidad si ya existe. Debe recibir el nombre, precio y cantidad del producto como parámetros. Itera a través del inventario y compara los nombres de los productos con el nombre\n",
    "proporcionado. Si el producto ya existe, actualiza la cantidad. Si no existe, agrega un nuevo producto al inventario."
   ]
  },
  {
   "cell_type": "code",
   "execution_count": 9,
   "id": "074ac0a8",
   "metadata": {},
   "outputs": [],
   "source": [
    "    #def add_product(self, name, price, quantity):\n",
    "        #for product in self.inventory:\n",
    "            #if product['name'] == name:\n",
    "                #product['quantity'] += quantity #aumenta o disminuye el stock (cantidad)\n",
    "                #print(f\"Quantity updated for {name}.\")\n",
    "                #return\n",
    "        #self.inventory.append({'name': name, 'price': price, 'quantity': quantity})\n",
    "        #print(f\"Product {name} added to inventory.\")"
   ]
  },
  {
   "cell_type": "markdown",
   "id": "e77f40cf",
   "metadata": {},
   "source": [
    "- Ver_inventario(self): Muestra el inventario de productos con sus detalles.\n",
    "Utiliza un bucle for para recorrer el inventario. Imprime los detalles (nombre, precio, cantidad) de cada producto."
   ]
  },
  {
   "cell_type": "code",
   "execution_count": 10,
   "id": "f6ee53db",
   "metadata": {},
   "outputs": [],
   "source": [
    "    #def show_inventory(self):\n",
    "        #if not self.inventory:\n",
    "            #print(\"Inventory is empty.\")\n",
    "        #for product in self.inventory:\n",
    "            #print(f\"Name: {product['name']}, Price: ${product['price']}, Quantity: {product['quantity']}\")"
   ]
  },
  {
   "cell_type": "markdown",
   "id": "7d563e51",
   "metadata": {},
   "source": [
    "buscar_producto(self, nombre): Busca un producto en el inventario por nombre y muestra sus detalles si se encuentra. Debe recibir el nombre del producto como parámetro. Utiliza un bucle for para recorrer el inventario.\n",
    "Compara los nombres de los productos con el nombre proporcionado.\n",
    "Si se encuentra el producto, imprime sus detalles."
   ]
  },
  {
   "cell_type": "code",
   "execution_count": 11,
   "id": "d33584cc",
   "metadata": {},
   "outputs": [],
   "source": [
    "    #def search_product(self, name):\n",
    "        #for product in self.inventory:\n",
    "            #if product['name'].lower()==name.lower:\n",
    "                #print(f\"Name: {product['name']}, Price: ${product['price']}, Quantity: {product['quantity']}\")\n",
    "                #return\n",
    "        #print(f\"Product '{name}' not found in inventory.\")"
   ]
  },
  {
   "cell_type": "markdown",
   "id": "cbabeef3",
   "metadata": {},
   "source": [
    "actualizar_stock(self, nombre, cantidad): Actualiza el stock de un producto en el\n",
    "inventario. Debe recibir el nombre del producto y la cantidad a agregar o quitar como parámetros.\n",
    "Utiliza un bucle for para recorrer el inventario.\n",
    "Busca el producto por nombre.\n",
    "Actualiza la cantidad según la entrada del usuario.\n",
    "Si el producto no esta en el inventario muestra un mensaje indicándolo."
   ]
  },
  {
   "cell_type": "code",
   "execution_count": 12,
   "id": "a4c72428",
   "metadata": {},
   "outputs": [],
   "source": [
    "    #def update_stock(self, name, quantity):\n",
    "        #for product in self.inventory:\n",
    "            #if product['name'].lower()==name.lower():\n",
    "                #product['quantity'] += quantity #aumenta o disminuye el stock\n",
    "                #print(f\"Stock updated for {name}. New quantity: {product['quantity']}\")\n",
    "                #return\n",
    "        #print(f\"Product '{name}' not found in inventory.\")"
   ]
  },
  {
   "cell_type": "markdown",
   "id": "b6bbe2ef",
   "metadata": {},
   "source": [
    "eliminar_producto(self, nombre): Elimina un producto del inventario por nombre. Debe recibir el nombre del producto como parámetro.\n",
    "Utiliza un bucle for para recorrer el inventario.\n",
    "Busca el producto por nombre.\n",
    "Elimina el producto del inventario si existe.\n",
    "Si el producto no esta en el inventario muestra un mensaje indicándolo."
   ]
  },
  {
   "cell_type": "code",
   "execution_count": 13,
   "id": "9e268ff1",
   "metadata": {},
   "outputs": [],
   "source": [
    "    #def remove_product(self, name):\n",
    "        #for product in self.inventory:\n",
    "            #if product['name'].lower()==name.lower():\n",
    "                #self.inventory.remove(product)\n",
    "                #print(f\"Product '{name}' removed from inventory.\")\n",
    "                #return\n",
    "        #print(f\"Product '{name}' not found in inventory.\")"
   ]
  },
  {
   "cell_type": "markdown",
   "id": "5137b96d",
   "metadata": {},
   "source": [
    "calcular_valor_inventario(self): Calcula y muestra el valor total del inventario.\n",
    "Utiliza un bucle for para calcular el valor total del inventario.\n",
    "Itera a través del inventario y suma el valor de cada producto (precio x cantidad). Es decir, calcula el valor total del inventario."
   ]
  },
  {
   "cell_type": "code",
   "execution_count": 14,
   "id": "03d9d32d",
   "metadata": {},
   "outputs": [],
   "source": [
    "    #def calculate_inventory_value(self):\n",
    "        #total = 0\n",
    "        #for product in self.inventory:\n",
    "            #total += product['price'] * product['quantity'] #al resultado se le suma el total\n",
    "        #print(f\"Total inventory value: {total} euros\")\n",
    "        #return total"
   ]
  },
  {
   "cell_type": "markdown",
   "id": "7c1c01af",
   "metadata": {},
   "source": [
    "## Instrucciones adicionales\n",
    "Debes crear instancias de la clase TiendaOnline y probar cada uno de los métodos para demostrar\n",
    "que funcionan correctamente.\n",
    "Para las entrevistas técnicas, asegúrate de tener preparado un código que permita añadir una\n",
    "cantidad significativa de productos al inventario. Esto facilitará comprobar si los métodos para\n",
    "visualizar el inventario, buscar productos, y otras funcionalidades están funcionando correctamente.\"\n",
    "\n",
    "## Bonus\n",
    "Dedica tiempo a esta sección solo si has terminado la anterior, entiendes bien lo que has realizado y\n",
    "te sientes lo suficientemente segura para avanzar. Recuerda que el objetivo principal no es\n",
    "completarlo todo, sino disfrutar del proceso y consolidar tu aprendizaje.\n",
    "\n",
    "\n",
    "Para realizar esta parte, debes añadir los siguientes atributos a la clase TiendaOnline: clientes (diccionario): Un atributo para llevar un registro de los clientes de la tienda. Cada cliente debe ser representado como un diccionario con las siguientes claves: 'nombre' y 'email'. Al inicio deberá ser un diccionario vacío. Además, cada cliente debe tener un historial de compras.\n",
    "- agregar_cliente(self, nombre, email): Agrega un nuevo cliente al registro de clientes. Debe recibir el nombre y el correo electrónico del cliente como parámetros. Agrega un cliente al diccionario de clientes con su nombre y correo electrónico."
   ]
  },
  {
   "cell_type": "code",
   "execution_count": 15,
   "id": "d819466c",
   "metadata": {},
   "outputs": [],
   "source": [
    "    #def add_customer(self, name, email):\n",
    "        #if name in self.customers:\n",
    "            #print(\"Customer already registered.\")\n",
    "        #else:\n",
    "            #self.customers[name] = {'email': email, 'purchases': []}\n",
    "            #print(f\"Customer {name} added.\") #añade cliente nuevo en el diccionario"
   ]
  },
  {
   "cell_type": "markdown",
   "id": "516fc742",
   "metadata": {},
   "source": [
    "- ver_clientes(self): Muestra la lista de clientes registrados con sus nombres y correos electrónicos. Utiliza un bucle for para recorrer la base de datos de clientes. Imprime los detalles de cada cliente (nombre y correo electrónico)."
   ]
  },
  {
   "cell_type": "code",
   "execution_count": 16,
   "id": "91dc54b4",
   "metadata": {},
   "outputs": [],
   "source": [
    "    #def show_customers(self):\n",
    "        #if not self.customers:\n",
    "            #print(\"No customers registered.\")\n",
    "        #for name, data in self.customers.items():\n",
    "            #print(f\"Name: {name}, Email: {data['email']}\") #añade cliente nuevo en el diccionario"
   ]
  },
  {
   "cell_type": "markdown",
   "id": "7a00beb8",
   "metadata": {},
   "source": [
    "realizar_compra(self): Permite a un cliente realizar una compra seleccionando productos del inventario. Debe interactuar con el cliente para seleccionar productos y calcular el costo total de la compra. Utiliza un bucle while para permitir al cliente realizar múltiples compras. Muestra el inventario y solicita al cliente ingresar el nombre del producto que desea comprar. Registra los productos seleccionados en un carrito y actualiza el inventario. Calcula el costo total de la compra."
   ]
  },
  {
   "cell_type": "code",
   "execution_count": 17,
   "id": "37c95a2a",
   "metadata": {},
   "outputs": [],
   "source": [
    "    #def make_purchase(self, customer_name):\n",
    "        #if customer_name not in self.customers:\n",
    "            #print(\"Customer not registered.\")\n",
    "            #return\n",
    "        #cart = {} #crea diccionario vacío \"carrito\"\n",
    "        #while True:\n",
    "            #self.show_inventory()\n",
    "            #prod = input(\"Enter the product name to buy (or 'exit' to finish): \")\n",
    "            #if prod.lower() == 'exit':\n",
    "                #break\n",
    "            #found = False\n",
    "            #for product in self.inventory:\n",
    "                #if product['name'].lower()==prod.lower():\n",
    "                    #found = True\n",
    "                    #quantity = int(input(f\"How many '{prod}' do you want to buy?: \"))\n",
    "                    #if quantity > product['quantity']:\n",
    "                        #print(\"Not enough stock.\")\n",
    "                    #else:\n",
    "                        #cart[prod] = {'price': product['price'], 'quantity': quantity}\n",
    "                        #product['quantity'] -= quantity #se resta a la cantidad del producto\n",
    "                        #print(f\"{quantity} units of {prod} added to cart.\")\n",
    "                    #break\n",
    "            #if not found:\n",
    "                #print(\"Product not found.\")\n",
    "        #if cart:\n",
    "            #self.register_purchase(customer_name, cart) #registra la compra\n",
    "        #else:\n",
    "            #print(\"No purchase made.\") #no se realizó la compra"
   ]
  },
  {
   "cell_type": "markdown",
   "id": "70b00060",
   "metadata": {},
   "source": [
    "procesar_pago(self): Procesa el pago de una compra, calcula el cambio y muestra un mensaje de confirmación. Utiliza un bloque try... except para manejar excepciones. Solicita al cliente ingresar la cantidad total y la cantidad de pago usando un input. Calcula el cambio y muestra un mensaje de pago exitoso o un error en caso de monto insuficiente."
   ]
  },
  {
   "cell_type": "code",
   "execution_count": 18,
   "id": "064d6786",
   "metadata": {},
   "outputs": [],
   "source": [
    "    #def process_payment(self, total):\n",
    "        #try:\n",
    "            #payment = float(input(f\"Total to pay: {total} euros. Enter payment: \"))\n",
    "            #if payment < total:\n",
    "                #print(\"Insufficient amount. Payment cancelled.\")\n",
    "                #return False #pago cancelado\n",
    "            #change = payment - total #calcula el cambio\n",
    "            #print(f\"Payment successful. Change: {change} euros.\")\n",
    "            #return True\n",
    "        #except Exception as e: #da error si se escriben letras, por ejemplo\n",
    "            #print(\"Payment error:\", e)\n",
    "            #return False"
   ]
  },
  {
   "cell_type": "markdown",
   "id": "32e5723d",
   "metadata": {},
   "source": [
    "registrar_compra(self, nombre_cliente, carrito): Registra una compra para un cliente, actualiza las ventas totales y agrega la compra al historial del cliente. Debe recibir el nombre del cliente y el carrito de compras como parámetros. Busca al cliente en el diccionario de clientes. Si el cliente no esta en el diccionario de clientes, muestra que no se puede realizar la acción\n",
    "por que el cliente no está en el diccionario. Calcula el total de la compra y registra la compra, incluyendo los productos y el total."
   ]
  },
  {
   "cell_type": "code",
   "execution_count": 19,
   "id": "60b6c046",
   "metadata": {},
   "outputs": [],
   "source": [
    "    #def register_purchase(self, customer_name, cart):\n",
    "        #if customer_name not in self.customers:\n",
    "            #print(\"Customer not registered.\")\n",
    "            #return\n",
    "        #total = sum(item['price'] * item['quantity'] for item in cart.values()) #total a pagar si el cliente está registrado\n",
    "        #if self.process_payment(total):\n",
    "            #purchase = {'products': cart, 'total': total} #crea diccionario \n",
    "            #self.customers[customer_name]['purchases'].append(purchase) #agrega la compra\n",
    "            #self.total_sales += total #suma total de todas las compras\n",
    "            #print(f\"Purchase registered for {customer_name}. Total: {total} euros.\")"
   ]
  },
  {
   "cell_type": "markdown",
   "id": "86494f18",
   "metadata": {},
   "source": [
    "ver_compras_cliente(self, nombre_cliente): Muestra el historial de compras de un cliente. Debe recibir el nombre del cliente como parámetro. Busca al cliente en el diccionario de clientes. Muestra las compras realizadas por el cliente, incluyendo detalles de productos y totales."
   ]
  },
  {
   "cell_type": "code",
   "execution_count": 20,
   "id": "4edc5601",
   "metadata": {},
   "outputs": [],
   "source": [
    "    #def show_customer_purchases(self, customer_name):\n",
    "        #if customer_name not in self.customers:\n",
    "            #print(\"Customer not registered.\")\n",
    "            #return\n",
    "        #purchases = self.customers[customer_name]['purchases'] #compras totales\n",
    "        #if not purchases:\n",
    "            #print(\"This customer has not made any purchases.\")\n",
    "            #return\n",
    "        #for i, purchase in enumerate(purchases, 1): #enumera las compras empezando en 1\n",
    "            #print(f\"Purchase {i}:\")\n",
    "            #for prod, data in purchase['products'].items():\n",
    "                #print(f\"  {prod}: {data['quantity']} x {data['price']}€\")\n",
    "            #print(f\"  Total: {purchase['total']}€\")"
   ]
  },
  {
   "cell_type": "markdown",
   "id": "15c9346e",
   "metadata": {},
   "source": [
    "calcular_ventas_totales(self): Muestra las ventas totales de la tienda.\n",
    "Suma los totales de todas las compras realizadas y muestra el total de ventas totales en la tienda."
   ]
  },
  {
   "cell_type": "code",
   "execution_count": 21,
   "id": "1aaf6040",
   "metadata": {},
   "outputs": [],
   "source": [
    "    #def calculate_total_sales(self):\n",
    "        #print(f\"Total sales of the store: {self.total_sales} euros\")\n",
    "        #return self.total_sales"
   ]
  },
  {
   "cell_type": "markdown",
   "id": "fe81c67b",
   "metadata": {},
   "source": [
    "Clase completa con condicionales, bucles, funciones y regex"
   ]
  },
  {
   "cell_type": "code",
   "execution_count": null,
   "id": "ab351930",
   "metadata": {},
   "outputs": [],
   "source": [
    "class OnlineStore:\n",
    "    def __init__(self):\n",
    "        self.inventory = []\n",
    "        self.total_sales = 0.0\n",
    "        self.customers = {}\n",
    "\n",
    "# --- Condicionales (if, elif, else) ---\n",
    "    def ejemplo_condicional(self, x):\n",
    "        if x > 10:\n",
    "            print(\"Mayor que 10\")\n",
    "        elif x == 10:\n",
    "            print(\"Igual a 10\")\n",
    "        else:\n",
    "            print(\"Menor que 10\")\n",
    "\n",
    "    # --- Bucles (for y while) ---\n",
    "    def ejemplo_bucles(self):\n",
    "        # For sobre lista\n",
    "        colores = [\"rojo\", \"verde\", \"azul\"]\n",
    "        for color in colores:\n",
    "            print(\"Color:\", color)\n",
    "\n",
    "        # For sobre diccionario\n",
    "        edades = {\"Ana\": 20, \"Luis\": 25}\n",
    "        for nombre, edad in edades.items(): #items itera la clave y el valor\n",
    "            print(nombre, \"tiene\", edad, \"años\")\n",
    "\n",
    "        # While\n",
    "        contador = 0\n",
    "        while contador < 3:\n",
    "            print(\"Contador:\", contador)\n",
    "            contador += 1\n",
    "\n",
    "    # --- Funciones (con parámetros y por defecto) ---\n",
    "    def saludar(self, nombre):\n",
    "        print(f\"Hola, {nombre}\")\n",
    "\n",
    "    def saludar_defecto(self, nombre=\"amigo\"):\n",
    "        print(f\"Hola, {nombre}\")\n",
    "\n",
    "    # --- Conceptos básicos de regex ---\n",
    "    def ejemplo_regex(self):\n",
    "        import re\n",
    "        texto = \"Mi teléfono es 123-456-789 y mi email es prueba@email.com\"\n",
    "        # Buscar un email en el texto\n",
    "        patron_email = r\"\\b[\\w.-]+@[\\w.-]+\\.\\w+\\b\"\n",
    "        resultado = re.search(patron_email, texto)\n",
    "        if resultado:\n",
    "            print(\"Email encontrado:\", resultado.group())\n",
    "        else:\n",
    "            print(\"No se encontró email\")\n",
    "\n",
    "        # Buscar un número de teléfono simple\n",
    "        patron_tel = r\"\\d{3}-\\d{3}-\\d{3}\"\n",
    "        resultado_tel = re.search(patron_tel, texto)\n",
    "        if resultado_tel:\n",
    "            print(\"Teléfono encontrado:\", resultado_tel.group())\n",
    "        else:\n",
    "            print(\"No se encontró teléfono\")\n",
    "            \n",
    "    # --- Métodos de la tienda ---        \n",
    "    def add_product(self, name, price, quantity):\n",
    "        for product in self.inventory:\n",
    "            if product['name'].lower()==name.lower():\n",
    "                product['quantity'] += quantity\n",
    "                print(f\"Quantity updated for {name}.\")\n",
    "                return\n",
    "        self.inventory.append({'name': name, 'price': price, 'quantity': quantity})\n",
    "        print(f\"Product {name} added to inventory.\")\n",
    "\n",
    "    def show_inventory(self):\n",
    "        if not self.inventory:\n",
    "            print(\"Inventory is empty.\")\n",
    "        for product in self.inventory:\n",
    "            print(f\"Name: {product['name']}, Price: ${product['price']}, Quantity: {product['quantity']}\")\n",
    "\n",
    "    def search_product(self, name):\n",
    "        for product in self.inventory:\n",
    "            if product['name'].lower()==name.lower():\n",
    "                print(f\"Name: {product['name']}, Price: ${product['price']}, Quantity: {product['quantity']}\")\n",
    "                return\n",
    "        print(f\"Product '{name}' not found in inventory.\")\n",
    "\n",
    "    def update_stock(self, name, quantity):\n",
    "        for product in self.inventory:\n",
    "            if product['name'].lower()==name.lower():\n",
    "                product['quantity'] += quantity\n",
    "                print(f\"Stock updated for {name}. New quantity: {product['quantity']}\")\n",
    "                return\n",
    "        print(f\"Product '{name}' not found in inventory.\")\n",
    "\n",
    "    def remove_product(self, name):\n",
    "        for product in self.inventory:\n",
    "            if product['name'].lower() == name.lower():\n",
    "                self.inventory.remove(product)\n",
    "                print(f\"Product '{name}' removed from inventory.\")\n",
    "                return\n",
    "        print(f\"Product '{name}' not found in inventory.\")\n",
    "\n",
    "    def calculate_inventory_value(self):\n",
    "        total = 0\n",
    "        for product in self.inventory:\n",
    "            total += product['price'] * product['quantity']\n",
    "        print(f\"Total inventory value: {total} euros\")\n",
    "        return total\n",
    "\n",
    "    def add_customer(self, name, email):\n",
    "        if name in self.customers:\n",
    "            print(\"Customer already registered.\")\n",
    "        else:\n",
    "            self.customers[name] = {'email': email, 'purchases': []}\n",
    "            print(f\"Customer {name} added.\")\n",
    "\n",
    "    def show_customers(self):\n",
    "        if not self.customers:\n",
    "            print(\"No customers registered.\")\n",
    "        for name, data in self.customers.items(): #items itera la clave y el valor\n",
    "            print(f\"Name: {name}, Email: {data['email']}\")\n",
    "\n",
    "    def make_purchase(self, customer_name):\n",
    "        if customer_name not in self.customers:\n",
    "            print(\"Customer not registered.\")\n",
    "            return\n",
    "        cart = {}\n",
    "        while True:\n",
    "            self.show_inventory()\n",
    "            prod = input(\"Enter the product name to buy (or 'exit' to finish): \")\n",
    "            if prod.lower() == 'exit':\n",
    "                break\n",
    "            found = False\n",
    "            for product in self.inventory:\n",
    "                if product['name'].lower()==prod.lower():\n",
    "                    found = True\n",
    "                    quantity = int(input(f\"How many '{prod}' do you want to buy?: \"))\n",
    "                    if quantity > product['quantity']:\n",
    "                        print(\"Not enough stock.\")\n",
    "                    else:\n",
    "                        cart[prod] = {'price': product['price'], 'quantity': quantity}\n",
    "                        product['quantity'] -= quantity\n",
    "                        print(f\"{quantity} units of {prod} added to cart.\")\n",
    "                    break\n",
    "            if not found:\n",
    "                print(\"Product not found.\")\n",
    "        if cart:\n",
    "            self.register_purchase(customer_name, cart)\n",
    "        else:\n",
    "            print(\"No purchase made.\")\n",
    "\n",
    "    def process_payment(self, total):\n",
    "        try:\n",
    "            payment = float(input(f\"Total to pay: {total} euros. Enter payment: \"))\n",
    "            if payment < total:\n",
    "                print(\"Insufficient amount. Payment cancelled.\")\n",
    "                return False\n",
    "            change = payment - total\n",
    "            print(f\"Payment successful. Change: {change} euros.\")\n",
    "            return True\n",
    "        except Exception as e:\n",
    "            print(\"Payment error:\", e)\n",
    "            return False\n",
    "\n",
    "    def register_purchase(self, customer_name, cart):\n",
    "        if customer_name not in self.customers:\n",
    "            print(\"Customer not registered.\")\n",
    "            return\n",
    "        total = sum(item['price'] * item['quantity'] for item in cart.values()) #items itera la clave y el valor\n",
    "        if self.process_payment(total):\n",
    "            purchase = {'products': cart, 'total': total}\n",
    "            self.customers[customer_name]['purchases'].append(purchase)\n",
    "            self.total_sales += total\n",
    "            print(f\"Purchase registered for {customer_name}. Total: {total} euros.\")\n",
    "\n",
    "    def show_customer_purchases(self, customer_name):\n",
    "        if customer_name not in self.customers:\n",
    "            print(\"Customer not registered.\")\n",
    "            return\n",
    "        purchases = self.customers[customer_name]['purchases']\n",
    "        if not purchases:\n",
    "            print(\"This customer has not made any purchases.\")\n",
    "            return\n",
    "        for i, purchase in enumerate(purchases, 1):\n",
    "            print(f\"Purchase {i}:\")\n",
    "            for prod, data in purchase['products'].items(): #items itera la clave y el valor\n",
    "                print(f\"  {prod}: {data['quantity']} x {data['price']}€\")\n",
    "            print(f\"  Total: {purchase['total']}€\")\n",
    "\n",
    "    def calculate_total_sales(self):\n",
    "        print(f\"Total sales of the store: {self.total_sales} euros\")\n",
    "        return self.total_sales"
   ]
  },
  {
   "cell_type": "markdown",
   "id": "ad45925f",
   "metadata": {},
   "source": [
    "Instancias de prueba"
   ]
  },
  {
   "cell_type": "code",
   "execution_count": 27,
   "id": "1a2e5a94",
   "metadata": {},
   "outputs": [
    {
     "name": "stdout",
     "output_type": "stream",
     "text": [
      "Menor que 10\n",
      "Igual a 10\n",
      "Mayor que 10\n",
      "Color: rojo\n",
      "Color: verde\n",
      "Color: azul\n",
      "Ana tiene 20 años\n",
      "Luis tiene 25 años\n",
      "Contador: 0\n",
      "Contador: 1\n",
      "Contador: 2\n",
      "Hola, Rocío\n",
      "Hola, amigo\n",
      "Hola, Ana\n",
      "Email encontrado: prueba@email.com\n",
      "Teléfono encontrado: 123-456-789\n",
      "Product Shirt added to inventory.\n",
      "Product Pants added to inventory.\n",
      "Product Shoes added to inventory.\n",
      "Name: Shirt, Price: $20, Quantity: 40\n",
      "Name: Pants, Price: $30, Quantity: 30\n",
      "Name: Shoes, Price: $50, Quantity: 40\n",
      "Name: Shirt, Price: $20, Quantity: 40\n",
      "Stock updated for Pants. New quantity: 35\n",
      "Product 'Shoes' removed from inventory.\n",
      "Total inventory value: 1850 euros\n"
     ]
    },
    {
     "data": {
      "text/plain": [
       "1850"
      ]
     },
     "execution_count": 27,
     "metadata": {},
     "output_type": "execute_result"
    },
    {
     "name": "stdout",
     "output_type": "stream",
     "text": [
      "Customer Customer1 added.\n",
      "Name: Customer1, Email: customer1@email.com\n",
      "Name: Shirt, Price: $20, Quantity: 40\n",
      "Name: Pants, Price: $30, Quantity: 35\n",
      "3 units of shirt added to cart.\n",
      "Name: Shirt, Price: $20, Quantity: 37\n",
      "Name: Pants, Price: $30, Quantity: 35\n",
      "Product not found.\n",
      "Name: Shirt, Price: $20, Quantity: 37\n",
      "Name: Pants, Price: $30, Quantity: 35\n",
      "5 units of pants added to cart.\n",
      "Name: Shirt, Price: $20, Quantity: 37\n",
      "Name: Pants, Price: $30, Quantity: 30\n",
      "Product not found.\n",
      "Name: Shirt, Price: $20, Quantity: 37\n",
      "Name: Pants, Price: $30, Quantity: 30\n",
      "Payment successful. Change: 90.0 euros.\n",
      "Purchase registered for Customer1. Total: 210 euros.\n",
      "Purchase 1:\n",
      "  shirt: 3 x 20€\n",
      "  pants: 5 x 30€\n",
      "  Total: 210€\n",
      "Total sales of the store: 210.0 euros\n"
     ]
    },
    {
     "data": {
      "text/plain": [
       "210.0"
      ]
     },
     "execution_count": 27,
     "metadata": {},
     "output_type": "execute_result"
    }
   ],
   "source": [
    "store = OnlineStore() # define la clase creando el objeto store (se pueden añadir más en la misma clase)\n",
    "\n",
    "#Condicional \n",
    "store.ejemplo_condicional(7)  # Imprime: Menor que 10\n",
    "store.ejemplo_condicional(10) # Imprime: Igual a 10\n",
    "store.ejemplo_condicional(15) # Imprime: Mayor que 10\n",
    "\n",
    "# Bucle\n",
    "store.ejemplo_bucles()\n",
    "\n",
    "# Funciones \n",
    "store.saludar(\"Rocío\")       # Imprime: Hola, Rocío\n",
    "store.saludar_defecto()      # Imprime: Hola, amiga\n",
    "store.saludar_defecto(\"Ana\") # Imprime: Hola, Ana\n",
    "\n",
    "# Regex \n",
    "store.ejemplo_regex()\n",
    "\n",
    "# Add products\n",
    "store.add_product(\"Shirt\", 20, 40) # Agrega 40 camisas de 20€ cada una\n",
    "store.add_product(\"Pants\", 30, 30) # Agrega 30 pantalones de 30€ cada uno\n",
    "store.add_product(\"Shoes\", 50, 40) # Agrega 40 pares de zapatos de 50€ cada uno \n",
    "\n",
    "# Show inventory\n",
    "store.show_inventory()\n",
    "\n",
    "# Search product\n",
    "store.search_product(\"Shirt\")\n",
    "\n",
    "# Update stock\n",
    "store.update_stock(\"Pants\", 5)\n",
    "\n",
    "# Remove product\n",
    "store.remove_product(\"Shoes\")\n",
    "\n",
    "# Calculate inventory value\n",
    "store.calculate_inventory_value()\n",
    "\n",
    "# BONUS:\n",
    "# Add customer\n",
    "store.add_customer(\"Customer1\", \"customer1@email.com\")\n",
    "\n",
    "# Show customers\n",
    "store.show_customers()\n",
    "\n",
    "# Make purchase \n",
    "store.make_purchase(\"Customer1\")\n",
    "\n",
    "# Show customer purchases\n",
    "store.show_customer_purchases(\"Customer1\")\n",
    "\n",
    "# Calculate total sales\n",
    "store.calculate_total_sales()"
   ]
  },
  {
   "cell_type": "markdown",
   "id": "c61d6003",
   "metadata": {},
   "source": [
    "## Normas\n",
    "Este ejercicio está pensado para que lo realices de forma individual en clase, pero podrás consultar tus dudas con la profesora y tus compañeras si lo consideras necesario. Ellas no te darán directamente la solución de tu duda, pero sí pistas para poder solucionarla. Aún facilitando la comunicación entre compañeras, durante la prueba no debes copiar código de otra persona ni acceder a su portátil. Confiamos en tu responsabilidad.\n",
    "\n",
    "\n",
    "La evaluación es una buena oportunidad para conocer cómo estás progresando, saber qué temas debes\n",
    "reforzar durante las siguientes semanas y cuáles dominas. Te recomendamos que te sientas cómoda con el ejercicio que entregues y no envíes cosas copiadas que no entiendas.\n",
    "\n",
    "\n",
    "Si detectamos que has entregado código que no es tuyo, no entiendes y no lo puedes defender, pasarás\n",
    "directamente a la re-evaluación del módulo. Tu objetivo no debería ser pasar la evaluación sino convertirte en analista de datos, y esto debes tenerlo claro en todo momento.\n",
    "\n",
    "\n",
    "Una vez entregado el ejercicio realizarás una revisión del mismo con la profesora (20 minutos), que se asemejará a una entrevista técnica: te pedirá que expliques las decisiones tomadas para realizarlo. \n",
    "\n",
    "Es una oportunidad para practicar la dinámica de una entrevista técnica donde te van a proponer cambios sobre tu código que no conoces a priori. Si evitas que otras compañeras te den pistas sobre la dinámica de feedback, podrás aprovecharlo como una práctica y pasar los nervios con la profesora en lugar de en tu primera entrevista de trabajo.\n",
    "\n",
    "\n",
    "Al final tendrás un feedback sobre aspectos a destacar y a mejorar en tu ejercicio, y sabrás qué objetivos de aprendizaje has supera\n",
    "\n",
    "## Criterios de evaluación\n",
    "Vamos a listar los criterios de evaluación de este ejercicio. Si no superas al menos el 80% de estos criterios o no has superado algún criterio clave (marcados con *) te pediremos que realices una re-evaluación con el fin de que termines el curso mejor preparada y enfrentes tu primera experiencia profesional con más seguridad. En caso contrario, estás aprendiendo al ritmo que hemos pautado para poder afrontar los conocimientos del siguiente módulo.\n",
    "\n",
    "## Python básico\n",
    "- Condicionales (if, elif, else)*\n",
    "- Bucles (for y while). Importante entender cómo iterar por una lista, o un diccionario*\n",
    "- Funciones (creación de funciones con parámetros, parámetros por defecto)*\n",
    "- Conceptos básicos de regex\n",
    "- Clases\n",
    "- Diferencias entre los distintos tipos de datos en python (strings, listas, tuplas, sets y diccionarios)\n",
    "## Otros criterios a tener en cuenta\n",
    "- Usar inglés para nombres de variables, funciones, clases, mensajes de commit, nombres de ficheros.\n",
    "- El repositorio de GitHub debe tener README explicando muy brevemente cómo arrancar el proyecto.\n",
    "\n",
    "\n",
    "¡Al turrón!"
   ]
  }
 ],
 "metadata": {
  "kernelspec": {
   "display_name": "base",
   "language": "python",
   "name": "python3"
  },
  "language_info": {
   "codemirror_mode": {
    "name": "ipython",
    "version": 3
   },
   "file_extension": ".py",
   "mimetype": "text/x-python",
   "name": "python",
   "nbconvert_exporter": "python",
   "pygments_lexer": "ipython3",
   "version": "3.13.5"
  }
 },
 "nbformat": 4,
 "nbformat_minor": 5
}
